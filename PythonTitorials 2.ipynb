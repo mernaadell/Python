{
 "cells": [
  {
   "cell_type": "markdown",
   "metadata": {},
   "source": [
    "# Statistics"
   ]
  },
  {
   "cell_type": "code",
   "execution_count": 10,
   "metadata": {},
   "outputs": [
    {
     "name": "stdout",
     "output_type": "stream",
     "text": [
      "3\n",
      "2.18978102189781\n",
      "5\n",
      "4.0\n",
      "3\n",
      "3\n",
      "11.720024503343597\n"
     ]
    }
   ],
   "source": [
    "import statistics as st\n",
    "b=[1,2,3,4,5]\n",
    "a=st.mean(b) #average\n",
    "print(a) \n",
    "c=st.harmonic_mean(b)\n",
    "print(c)\n",
    "f=[5,3,7,8,0] #eliife nos b3d sort odd\n",
    "f2=[5,3,7,8,0,1] # even agma3 el atnen eliife nos w a2sam 3la 2\n",
    "c=st.median(f)\n",
    "print(c)\n",
    "c=st.median(f2)\n",
    "print(c)\n",
    "c=st.median_low(f2) #ya5od l a2al\n",
    "print(c)\n",
    "a=[1,2,3,4,5,1,2,3,45,4,5,3,3]\n",
    "print(st.mode(a)) #aktr rkam atkrr\n",
    "d=st.stdev(a)\n",
    "print(d)"
   ]
  },
  {
   "cell_type": "markdown",
   "metadata": {},
   "source": [
    "# Random"
   ]
  },
  {
   "cell_type": "code",
   "execution_count": 25,
   "metadata": {},
   "outputs": [
    {
     "name": "stdout",
     "output_type": "stream",
     "text": [
      "6\n",
      "0.8591765850664496\n",
      "5.121073120841451\n",
      "11\n",
      "37\n",
      "2\n",
      "w\n",
      "[130, 72, 24, 75, 8, 105, 127, 71, 42, 70]\n",
      "[140.89146709825064, 90.14836975395542, 34.02166858367954, 79.66181913449265, 11.059769460556687, 115.06071058909929, 133.53355904245507, 81.02632024220398, 57.906536983534394, 73.32521609572133]\n",
      "[1, 5, 3, 4, 2]\n"
     ]
    }
   ],
   "source": [
    "import random as rn\n",
    "a=rn.randint(1,15)\n",
    "print(a)\n",
    "a=rn.random()\n",
    "print(a) #kasr ma ben 0,1\n",
    "a=rn.uniform(1,20)#kasr ma ben 1,19\n",
    "print(a)\n",
    "a=rn.randrange(1,50)\n",
    "print(a)\n",
    "a=rn.randrange(1,50,2) #fardy bs\n",
    "print(a)\n",
    "h=[4,3,2,6,3]\n",
    "a=rn.choice(h)\n",
    "print(a)\n",
    "a=\"sweet\"\n",
    "y=rn.choice(a)\n",
    "print(y)\n",
    "f=rn.sample(range(200),10)#sample kol mra 10 arkam mn 0 l 199\n",
    "print(f)\n",
    "s=[i+rn.uniform(1,20) for i in f ]\n",
    "print(s)\n",
    "f=[1,2,3,4,5]\n",
    "rn.shuffle(f)\n",
    "print(f)"
   ]
  },
  {
   "cell_type": "code",
   "execution_count": null,
   "metadata": {},
   "outputs": [],
   "source": []
  },
  {
   "cell_type": "code",
   "execution_count": null,
   "metadata": {},
   "outputs": [],
   "source": []
  }
 ],
 "metadata": {
  "kernelspec": {
   "display_name": "Python 3",
   "language": "python",
   "name": "python3"
  },
  "language_info": {
   "codemirror_mode": {
    "name": "ipython",
    "version": 3
   },
   "file_extension": ".py",
   "mimetype": "text/x-python",
   "name": "python",
   "nbconvert_exporter": "python",
   "pygments_lexer": "ipython3",
   "version": "3.7.3"
  }
 },
 "nbformat": 4,
 "nbformat_minor": 2
}
