{
  "nbformat": 4,
  "nbformat_minor": 0,
  "metadata": {
    "colab": {
      "name": "TensorFlow.ipynb",
      "provenance": [],
      "collapsed_sections": [],
      "include_colab_link": true
    },
    "kernelspec": {
      "name": "python3",
      "display_name": "Python 3"
    }
  },
  "cells": [
    {
      "cell_type": "markdown",
      "metadata": {
        "id": "view-in-github",
        "colab_type": "text"
      },
      "source": [
        "<a href=\"https://colab.research.google.com/github/mernaadell/Python/blob/master/TensorFlow.ipynb\" target=\"_parent\"><img src=\"https://colab.research.google.com/assets/colab-badge.svg\" alt=\"Open In Colab\"/></a>"
      ]
    },
    {
      "cell_type": "markdown",
      "metadata": {
        "id": "PvKgD94J3OBY",
        "colab_type": "text"
      },
      "source": [
        "tensor k2nha matrix dim wa7ed aw atnen etc\n",
        "flow hwa l graph elii bykon feh l 3mlyat l 7sabya\n",
        "tensorflow l graph elii bydom l matrices\n",
        "edges hya l tensors->kmayat l bynant\n",
        "nodes->3mlya 7sabya gdeda\n",
        "edges+nodes\n",
        "rank->mmkn tkon 0 da rkam lwa7do\n",
        "mmkn 1 w da vector\n",
        "mmkn rank 2 2d matrix\n",
        "session-> l code mesh hynfa3 ysht8al 8er lma n7to fe session a7ot variables fun etc\n",
        "operation->const variable placeholder"
      ]
    },
    {
      "cell_type": "markdown",
      "metadata": {
        "id": "PdNYqbQE3LSe",
        "colab_type": "text"
      },
      "source": [
        ""
      ]
    },
    {
      "cell_type": "code",
      "metadata": {
        "id": "5sBmqsWiwlrI",
        "colab_type": "code",
        "colab": {
          "base_uri": "https://localhost:8080/",
          "height": 63
        },
        "outputId": "789830a1-9f46-4cba-d767-30fd01f7f0eb"
      },
      "source": [
        "import tensorflow as tf"
      ],
      "execution_count": 1,
      "outputs": [
        {
          "output_type": "display_data",
          "data": {
            "text/html": [
              "<p style=\"color: red;\">\n",
              "The default version of TensorFlow in Colab will soon switch to TensorFlow 2.x.<br>\n",
              "We recommend you <a href=\"https://www.tensorflow.org/guide/migrate\" target=\"_blank\">upgrade</a> now \n",
              "or ensure your notebook will continue to use TensorFlow 1.x via the <code>%tensorflow_version 1.x</code> magic:\n",
              "<a href=\"https://colab.research.google.com/notebooks/tensorflow_version.ipynb\" target=\"_blank\">more info</a>.</p>\n"
            ],
            "text/plain": [
              "<IPython.core.display.HTML object>"
            ]
          },
          "metadata": {
            "tags": []
          }
        }
      ]
    },
    {
      "cell_type": "markdown",
      "metadata": {
        "id": "FOZP0_7w0C-a",
        "colab_type": "text"
      },
      "source": [
        "he we are"
      ]
    },
    {
      "cell_type": "code",
      "metadata": {
        "id": "X0xG7yMfwvsy",
        "colab_type": "code",
        "colab": {
          "base_uri": "https://localhost:8080/",
          "height": 34
        },
        "outputId": "1d559668-3de2-4b4a-9625-976ed4558859"
      },
      "source": [
        "a=tf.constant(5)\n",
        "sess=tf.Session()\n",
        "print(sess.run(a))"
      ],
      "execution_count": 4,
      "outputs": [
        {
          "output_type": "stream",
          "text": [
            "5\n"
          ],
          "name": "stdout"
        }
      ]
    },
    {
      "cell_type": "code",
      "metadata": {
        "id": "f5rIKv-VzHpY",
        "colab_type": "code",
        "colab": {}
      },
      "source": [
        ""
      ],
      "execution_count": 0,
      "outputs": []
    }
  ]
}